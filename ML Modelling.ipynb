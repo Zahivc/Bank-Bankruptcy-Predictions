{
 "cells": [
  {
   "cell_type": "code",
   "execution_count": 1,
   "metadata": {},
   "outputs": [],
   "source": [
    "import pandas as pd\n",
    "import numpy as np\n",
    "from matplotlib import pyplot as plt\n",
    "from sklearn.linear_model import LogisticRegression\n",
    "from sklearn.ensemble import RandomForestClassifier\n",
    "from sklearn.ensemble import GradientBoostingClassifier\n",
    "from sklearn.ensemble import StackingClassifier\n",
    "from sklearn import metrics\n",
    "import imblearn\n",
    "from sklearn.model_selection import RandomizedSearchCV\n",
    "from sklearn.model_selection import GridSearchCV\n",
    "from sklearn.metrics import fbeta_score, make_scorer\n",
    "from imblearn.over_sampling import SMOTE\n",
    "from sklearn.preprocessing import MinMaxScaler"
   ]
  },
  {
   "cell_type": "code",
   "execution_count": 2,
   "metadata": {},
   "outputs": [],
   "source": [
    "train = pd.read_csv(\"FDIC_train_new\")\n",
    "val = pd.read_csv(\"FDIC_val_new\")\n",
    "test = pd.read_csv(\"FDIC_test_new\")"
   ]
  },
  {
   "cell_type": "code",
   "execution_count": 3,
   "metadata": {},
   "outputs": [
    {
     "data": {
      "text/plain": [
       "0    8512\n",
       "1     326\n",
       "Name: Failure, dtype: int64"
      ]
     },
     "execution_count": 3,
     "metadata": {},
     "output_type": "execute_result"
    }
   ],
   "source": [
    "train['Failure'].value_counts()"
   ]
  },
  {
   "cell_type": "code",
   "execution_count": 4,
   "metadata": {},
   "outputs": [
    {
     "data": {
      "text/plain": [
       "0    2091\n",
       "1      66\n",
       "Name: Failure, dtype: int64"
      ]
     },
     "execution_count": 4,
     "metadata": {},
     "output_type": "execute_result"
    }
   ],
   "source": [
    "val['Failure'].value_counts()"
   ]
  },
  {
   "cell_type": "code",
   "execution_count": 5,
   "metadata": {},
   "outputs": [
    {
     "data": {
      "text/plain": [
       "0    2708\n",
       "1      70\n",
       "Name: Failure, dtype: int64"
      ]
     },
     "execution_count": 5,
     "metadata": {},
     "output_type": "execute_result"
    }
   ],
   "source": [
    "test['Failure'].value_counts()"
   ]
  },
  {
   "cell_type": "code",
   "execution_count": 6,
   "metadata": {},
   "outputs": [
    {
     "name": "stdout",
     "output_type": "stream",
     "text": [
      "(2157, 90) (2778, 90)\n"
     ]
    }
   ],
   "source": [
    "print(val.shape, test.shape)"
   ]
  },
  {
   "cell_type": "code",
   "execution_count": 7,
   "metadata": {},
   "outputs": [],
   "source": [
    "train.drop(['Unnamed: 0','total_assets_1', 'total_assets_2', 'total_assets_3', 'total_assets_4', \n",
    "           'max_total_assets_2','max_total_assets_3','max_total_assets_4'], axis=1, inplace=True)\n",
    "val.drop(['Unnamed: 0','total_assets_1', 'total_assets_2', 'total_assets_3', 'total_assets_4', \n",
    "           'max_total_assets_2','max_total_assets_3','max_total_assets_4'], axis=1, inplace=True)\n",
    "test.drop(['Unnamed: 0','total_assets_1', 'total_assets_2', 'total_assets_3', 'total_assets_4', \n",
    "           'max_total_assets_2','max_total_assets_3','max_total_assets_4'], axis=1, inplace=True)"
   ]
  },
  {
   "cell_type": "code",
   "execution_count": 8,
   "metadata": {},
   "outputs": [],
   "source": [
    "y_train = train['Failure']\n",
    "X_train = train.drop('Failure', axis=1)\n",
    "y_val = val['Failure']\n",
    "X_val = val.drop('Failure', axis=1)\n",
    "y_test = test['Failure']\n",
    "X_test = test.drop('Failure', axis=1)"
   ]
  },
  {
   "cell_type": "code",
   "execution_count": 9,
   "metadata": {},
   "outputs": [],
   "source": [
    "X_train['log_max_total_assets'] = np.log1p(X_train['max_total_assets_1'])\n",
    "X_train.drop('max_total_assets_1',axis=1,inplace=True)\n",
    "X_val['log_max_total_assets'] = np.log1p(X_val['max_total_assets_1'])\n",
    "X_val.drop('max_total_assets_1',axis=1,inplace=True)\n",
    "X_test['log_max_total_assets'] = np.log1p(X_test['max_total_assets_1'])\n",
    "X_test.drop('max_total_assets_1',axis=1,inplace=True)"
   ]
  },
  {
   "cell_type": "code",
   "execution_count": 10,
   "metadata": {},
   "outputs": [],
   "source": [
    "def feature_generate(df, col_name_list):\n",
    "    for col_name in col_name_list:\n",
    "        df[col_name+'_change_1'] = df[col_name+'_2'] - df[col_name+'_1']\n",
    "        df[col_name+'_change_2'] = df[col_name+'_3'] - df[col_name+'_2']\n",
    "        df[col_name+'_change_3'] = df[col_name+'_4'] - df[col_name+'_3']\n",
    "    return df"
   ]
  },
  {
   "cell_type": "code",
   "execution_count": 11,
   "metadata": {},
   "outputs": [],
   "source": [
    "col_name_list = ['log_TA', 'NI_to_TA', 'Equity_to_TA', 'NPL_to_TL',\n",
    "       'REO_to_TA', 'ALLL_to_TL', 'core_deposits_to_TA',\n",
    "       'brokered_deposits_to_TA', 'liquid_assets_to_TA',\n",
    "       'loss_provision_to_TL', 'ROA', 'NIM', 'assets_growth',\n",
    "       'term_spread', 'stock_mkt_growth', 'real_gdp_growth',\n",
    "       'unemployment_rate_change', 'treasury_yield_3m', 'bbb_spread']"
   ]
  },
  {
   "cell_type": "code",
   "execution_count": 12,
   "metadata": {},
   "outputs": [],
   "source": [
    "X_train = feature_generate(X_train, col_name_list)\n",
    "X_val = feature_generate(X_val, col_name_list)\n",
    "X_test = feature_generate(X_test, col_name_list)"
   ]
  },
  {
   "cell_type": "code",
   "execution_count": 13,
   "metadata": {},
   "outputs": [
    {
     "name": "stdout",
     "output_type": "stream",
     "text": [
      "(8838, 135)\n",
      "(2157, 135)\n",
      "(2778, 135)\n"
     ]
    }
   ],
   "source": [
    "print(X_train.shape)\n",
    "print(X_val.shape)\n",
    "print(X_test.shape)"
   ]
  },
  {
   "cell_type": "code",
   "execution_count": 14,
   "metadata": {},
   "outputs": [
    {
     "name": "stdout",
     "output_type": "stream",
     "text": [
      "(8838,)\n"
     ]
    }
   ],
   "source": [
    "print(y_train.shape)"
   ]
  },
  {
   "cell_type": "code",
   "execution_count": 15,
   "metadata": {},
   "outputs": [],
   "source": [
    "train_data = pd.concat([X_train, X_val])\n",
    "train_label = pd.concat([y_train, y_val])"
   ]
  },
  {
   "cell_type": "code",
   "execution_count": 16,
   "metadata": {},
   "outputs": [
    {
     "name": "stdout",
     "output_type": "stream",
     "text": [
      "(10995,)\n"
     ]
    }
   ],
   "source": [
    "print(train_label.shape)"
   ]
  },
  {
   "cell_type": "markdown",
   "metadata": {},
   "source": [
    "#### Logistic Regression"
   ]
  },
  {
   "cell_type": "code",
   "execution_count": 17,
   "metadata": {},
   "outputs": [
    {
     "data": {
      "text/plain": [
       "GridSearchCV(estimator=LogisticRegression(max_iter=1000),\n",
       "             param_grid={'C': [0.0001, 0.001, 0.01, 0.1, 1]},\n",
       "             scoring='roc_auc')"
      ]
     },
     "execution_count": 17,
     "metadata": {},
     "output_type": "execute_result"
    }
   ],
   "source": [
    "lr_search = GridSearchCV(LogisticRegression(max_iter=1000), param_grid={'C': [0.0001,0.001,0.01, 0.1, 1]}, \n",
    "                   scoring='roc_auc')\n",
    "\n",
    "lr_search.fit(X_train, y_train)"
   ]
  },
  {
   "cell_type": "code",
   "execution_count": 18,
   "metadata": {},
   "outputs": [
    {
     "name": "stdout",
     "output_type": "stream",
     "text": [
      "best roc_auc score:  0.951530908624018\n",
      "best parameters:  {'C': 0.1}\n"
     ]
    }
   ],
   "source": [
    "print('best roc_auc score: ', lr_search.best_score_)\n",
    "print('best parameters: ', lr_search.best_params_)"
   ]
  },
  {
   "cell_type": "code",
   "execution_count": 19,
   "metadata": {},
   "outputs": [
    {
     "data": {
      "text/plain": [
       "LogisticRegression(C=0.1, max_iter=1000)"
      ]
     },
     "execution_count": 19,
     "metadata": {},
     "output_type": "execute_result"
    }
   ],
   "source": [
    "lr = LogisticRegression(C=0.1,max_iter=1000)\n",
    "lr.fit(train_data,train_label)"
   ]
  },
  {
   "cell_type": "code",
   "execution_count": 20,
   "metadata": {},
   "outputs": [],
   "source": [
    "lr_pred = lr.predict(X_test)\n",
    "lr_pred_proba = pd.DataFrame(lr.predict_proba(X_test))[1]"
   ]
  },
  {
   "cell_type": "code",
   "execution_count": 21,
   "metadata": {},
   "outputs": [],
   "source": [
    "threshold_list = [0.1,0.2,0.3,0.4,0.5,0.6,0.7,0.8,0.9]\n",
    "def print_report(Y_true, model_pred_proba):\n",
    "    for i in threshold_list:\n",
    "        print ('\\n******** For i = {} ******'.format(i))\n",
    "        Y_test_pred = model_pred_proba.apply(lambda x: 1 if x>i else 0)\n",
    "        print('Precision: ',metrics.precision_score(Y_true,Y_test_pred))\n",
    "        print('Recall: ',metrics.recall_score(Y_true, Y_test_pred))\n",
    "        print('F2_score: ', metrics.fbeta_score(Y_true, Y_test_pred,beta=2))\n",
    "        print('ROC_AUC_Score: ',metrics.roc_auc_score(Y_true, model_pred_proba))"
   ]
  },
  {
   "cell_type": "code",
   "execution_count": 22,
   "metadata": {
    "scrolled": true
   },
   "outputs": [
    {
     "name": "stdout",
     "output_type": "stream",
     "text": [
      "\n",
      "******** For i = 0.1 ******\n",
      "Precision:  0.10534351145038168\n",
      "Recall:  0.9857142857142858\n",
      "F2_score:  0.3689839572192513\n",
      "ROC_AUC_Score:  0.9234754167545896\n",
      "\n",
      "******** For i = 0.2 ******\n",
      "Precision:  0.13008130081300814\n",
      "Recall:  0.9142857142857143\n",
      "F2_score:  0.4145077720207255\n",
      "ROC_AUC_Score:  0.9234754167545896\n",
      "\n",
      "******** For i = 0.3 ******\n",
      "Precision:  0.15748031496062992\n",
      "Recall:  0.8571428571428571\n",
      "F2_score:  0.453857791225416\n",
      "ROC_AUC_Score:  0.9234754167545896\n",
      "\n",
      "******** For i = 0.4 ******\n",
      "Precision:  0.16356877323420074\n",
      "Recall:  0.6285714285714286\n",
      "F2_score:  0.40072859744990896\n",
      "ROC_AUC_Score:  0.9234754167545896\n",
      "\n",
      "******** For i = 0.5 ******\n",
      "Precision:  0.15577889447236182\n",
      "Recall:  0.44285714285714284\n",
      "F2_score:  0.3235908141962422\n",
      "ROC_AUC_Score:  0.9234754167545896\n",
      "\n",
      "******** For i = 0.6 ******\n",
      "Precision:  0.16417910447761194\n",
      "Recall:  0.3142857142857143\n",
      "F2_score:  0.26570048309178745\n",
      "ROC_AUC_Score:  0.9234754167545896\n",
      "\n",
      "******** For i = 0.7 ******\n",
      "Precision:  0.16470588235294117\n",
      "Recall:  0.2\n",
      "F2_score:  0.1917808219178082\n",
      "ROC_AUC_Score:  0.9234754167545896\n",
      "\n",
      "******** For i = 0.8 ******\n",
      "Precision:  0.11864406779661017\n",
      "Recall:  0.1\n",
      "F2_score:  0.10324483775811209\n",
      "ROC_AUC_Score:  0.9234754167545896\n",
      "\n",
      "******** For i = 0.9 ******\n",
      "Precision:  0.09090909090909091\n",
      "Recall:  0.04285714285714286\n",
      "F2_score:  0.047923322683706075\n",
      "ROC_AUC_Score:  0.9234754167545896\n"
     ]
    }
   ],
   "source": [
    "print_report(y_test,lr_pred_proba)"
   ]
  },
  {
   "cell_type": "code",
   "execution_count": 23,
   "metadata": {},
   "outputs": [
    {
     "name": "stdout",
     "output_type": "stream",
     "text": [
      "-1.088481690999683 Equity_to_TA_4\n",
      "-0.6068158957891905 Equity_to_TA_3\n",
      "-0.508544040057473 log_max_total_assets\n",
      "-0.48725153842209223 treasury_yield_3m_4\n",
      "-0.4816657952104987 Equity_to_TA_change_3\n",
      "-0.4536721915431829 Equity_to_TA_2\n",
      "-0.37869132370308056 treasury_yield_3m_3\n",
      "-0.36224384835495776 term_spread_1\n",
      "-0.31249538531891374 treasury_yield_3m_2\n",
      "-0.3091878875967473 Equity_to_TA_1\n",
      "0.2934714855566843 unemployment_rate_change_change_2\n",
      "0.2865946433833895 bbb_spread_1\n",
      "0.236859724199774 unemployment_rate_change_3\n",
      "0.21658538872773883 term_spread_change_1\n",
      "0.1975519749073387 bbb_spread_change_4\n",
      "-0.19296222983079828 bbb_spread_change_1\n",
      "-0.1919195842813695 term_spread_4\n",
      "0.18163449825801406 core_deposits_to_TA_change_1\n",
      "0.17676886825085036 log_TA_2\n",
      "0.17093148449315332 brokered_deposits_to_TA_2\n",
      "0.17027194018368222 brokered_deposits_to_TA_change_1\n",
      "0.16998104630201494 log_TA_3\n",
      "-0.16959867591890465 liquid_assets_to_TA_change_1\n",
      "0.1681809440420293 log_TA_4\n",
      "0.16761650302419612 real_gdp_growth_1\n",
      "-0.16544610120493625 unemployment_rate_change_change_3\n",
      "0.16281258633477697 log_TA_1\n",
      "-0.16175977695689917 NIM_change_3\n",
      "-0.16148842210037265 treasury_yield_3m_change_1\n",
      "-0.15629854655533557 term_spread_3\n",
      "-0.1531437042460053 Equity_to_TA_change_2\n",
      "0.15230205019382329 core_deposits_to_TA_change_3\n",
      "-0.15100696321854123 treasury_yield_3m_1\n",
      "0.14669080559849124 bbb_spread_4\n",
      "-0.14648430832483916 core_deposits_to_TA_1\n",
      "-0.14565845962721477 term_spread_2\n",
      "-0.14448430394644374 Equity_to_TA_change_1\n",
      "0.14268997165264025 NIM_1\n",
      "0.1422013583596787 NPL_to_TL_4\n",
      "-0.13939921734396568 assets_growth_4\n",
      "-0.12971244571863996 core_deposits_to_TA_change_2\n",
      "0.12515917720904976 NPL_to_TL_change_3\n",
      "-0.12309694569524754 brokered_deposits_to_TA_change_2\n",
      "0.12149405010956801 real_gdp_growth_2\n",
      "0.11914286846412817 liquid_assets_to_TA_change_3\n",
      "0.1172539412212737 NIM_2\n",
      "-0.11594814594163154 liquid_assets_to_TA_2\n",
      "-0.1085602147190116 treasury_yield_3m_change_3\n",
      "-0.10627159020824598 assets_growth_change_2\n",
      "-0.10075378457920622 real_gdp_growth_change_3\n",
      "-0.0993010344418648 NIM_4\n",
      "-0.09456225578546595 core_deposits_to_TA_3\n",
      "-0.09436339070240367 REO_to_TA_change_1\n",
      "0.09363241355259516 bbb_spread_2\n",
      "-0.0869885020428506 assets_growth_3\n",
      "0.08403853325268196 bbb_spread_3\n",
      "-0.08201160265713141 NI_to_TA_4\n",
      "-0.08201160265713141 ROA_4\n",
      "0.07447604582677991 liquid_assets_to_TA_4\n",
      "0.07141362299483336 unemployment_rate_change_4\n",
      "0.07128132330428515 liquid_assets_to_TA_change_2\n",
      "-0.07093127444462782 NI_to_TA_2\n",
      "-0.07093127444462782 ROA_2\n",
      "0.0681075395335509 real_gdp_growth_3\n",
      "-0.06720868364857137 NI_to_TA_1\n",
      "-0.06720868364857137 ROA_1\n",
      "-0.06720629009534265 stock_mkt_growth_4\n",
      "0.06697393406341523 REO_to_TA_change_2\n",
      "-0.06619593838416779 treasury_yield_3m_change_2\n",
      "0.06610878753142813 loss_provision_to_TL_change_2\n",
      "0.06569284728638124 loss_provision_to_TL_4\n",
      "-0.06525500514483257 NI_to_TA_3\n",
      "-0.06525500514483257 ROA_3\n",
      "0.06265227234581372 bbb_spread_change_3\n",
      "0.06245874251503114 NIM_3\n",
      "-0.058446876377645694 ALLL_to_TL_change_3\n",
      "-0.058299242548005545 stock_mkt_growth_change_3\n",
      "0.05773979440836222 core_deposits_to_TA_4\n",
      "-0.05768475558263831 unemployment_rate_change_1\n",
      "0.056759479376916486 loss_provision_to_TL_3\n",
      "-0.05661176135690685 unemployment_rate_change_2\n",
      "0.05619046098684704 REO_to_TA_1\n",
      "0.05483791435997917 assets_growth_1\n",
      "-0.054795198706241055 NIM_change_2\n",
      "0.0536505299772712 liquid_assets_to_TA_1\n",
      "-0.05338651057601715 real_gdp_growth_change_2\n",
      "0.05293094646764736 ALLL_to_TL_1\n",
      "-0.05241071530111485 assets_growth_change_3\n",
      "0.04783453879790753 brokered_deposits_to_TA_3\n",
      "-0.04612245291462883 real_gdp_growth_change_1\n",
      "0.04477809763318355 brokered_deposits_to_TA_4\n",
      "-0.04466682263734475 liquid_assets_to_TA_3\n",
      "-0.04314039854088515 ALLL_to_TL_change_1\n",
      "-0.038172929715561264 REO_to_TA_2\n",
      "-0.03562103772603301 term_spread_change_3\n",
      "-0.03555482619458024 assets_growth_change_1\n",
      "0.03515018993317833 core_deposits_to_TA_2\n",
      "-0.032646245045655824 real_gdp_growth_4\n",
      "-0.032189676121289486 stock_mkt_growth_change_2\n",
      "-0.030260687937568368 NPL_to_TL_1\n",
      "0.0300280709463565 ALLL_to_TL_3\n",
      "0.028801004347857765 REO_to_TA_3\n",
      "-0.02841880543128901 ALLL_to_TL_4\n",
      "0.025571319596143147 NPL_to_TL_change_2\n",
      "-0.0254360304313673 NIM_change_1\n",
      "0.023282628573951584 stock_mkt_growth_2\n",
      "0.021731549492063913 NPL_to_TL_change_1\n",
      "0.02023752301960095 ALLL_to_TL_change_2\n",
      "0.01928308816539486 assets_growth_2\n",
      "0.01704218115063443 NPL_to_TL_3\n",
      "-0.016756597512301036 NI_to_TA_change_3\n",
      "-0.016756597512301036 ROA_change_3\n",
      "0.015049682084965339 stock_mkt_growth_1\n",
      "-0.01441455790104523 REO_to_TA_change_3\n",
      "0.014386446446818982 REO_to_TA_4\n",
      "0.013956281916073482 log_TA_change_1\n",
      "-0.010640086928119276 term_spread_change_2\n",
      "0.00979054792675941 ALLL_to_TL_2\n",
      "-0.009593880299913461 bbb_spread_change_2\n",
      "-0.009349308154511262 loss_provision_to_TL_2\n",
      "0.008933367909463974 loss_provision_to_TL_change_3\n",
      "-0.008907047547338101 stock_mkt_growth_3\n",
      "-0.008529138445519816 NPL_to_TL_2\n",
      "0.008232946488985118 stock_mkt_growth_change_1\n",
      "-0.007234540306242596 loss_provision_to_TL_change_1\n",
      "-0.006787821948836932 log_TA_change_2\n",
      "0.005676269299799593 NI_to_TA_change_2\n",
      "0.005676269299799593 ROA_change_2\n",
      "-0.0037225907960674893 NI_to_TA_change_1\n",
      "-0.0037225907960674893 ROA_change_1\n",
      "-0.0030564411647239133 brokered_deposits_to_TA_change_3\n",
      "-0.00211476784826863 loss_provision_to_TL_1\n",
      "-0.001800102259985837 log_TA_change_3\n",
      "0.0010729942257318476 unemployment_rate_change_change_1\n",
      "0.0006595443094724348 brokered_deposits_to_TA_1\n"
     ]
    }
   ],
   "source": [
    "for coef, column in sorted(zip(lr.coef_.ravel(), train_data.columns),key=lambda x: abs(x[0]), reverse=True):\n",
    "    print(coef, column)"
   ]
  },
  {
   "cell_type": "markdown",
   "metadata": {},
   "source": [
    "#### RandomForest"
   ]
  },
  {
   "cell_type": "code",
   "execution_count": 24,
   "metadata": {},
   "outputs": [
    {
     "name": "stdout",
     "output_type": "stream",
     "text": [
      "{'n_estimators': [100, 325, 550, 775, 1000], 'max_features': ['auto', 'sqrt'], 'max_depth': [10, 32, 55, 77, 100, None], 'min_samples_split': [2, 5, 10], 'min_samples_leaf': [1, 2, 4], 'bootstrap': [True, False]}\n"
     ]
    }
   ],
   "source": [
    "n_estimators = [int(x) for x in np.linspace(start = 100, stop = 1000, num = 5)]\n",
    "max_features = ['auto', 'sqrt']\n",
    "max_depth = [int(x) for x in np.linspace(10, 100, num = 5)]\n",
    "max_depth.append(None)\n",
    "min_samples_split = [2, 5, 10]\n",
    "min_samples_leaf = [1, 2, 4]\n",
    "bootstrap = [True, False]\n",
    "\n",
    "\n",
    "random_grid = {'n_estimators': n_estimators,\n",
    "               'max_features': max_features,\n",
    "               'max_depth': max_depth,\n",
    "               'min_samples_split': min_samples_split,\n",
    "               'min_samples_leaf': min_samples_leaf,\n",
    "               'bootstrap': bootstrap}\n",
    "\n",
    "print(random_grid)"
   ]
  },
  {
   "cell_type": "code",
   "execution_count": 25,
   "metadata": {},
   "outputs": [
    {
     "name": "stdout",
     "output_type": "stream",
     "text": [
      "Fitting 3 folds for each of 100 candidates, totalling 300 fits\n"
     ]
    },
    {
     "name": "stderr",
     "output_type": "stream",
     "text": [
      "[Parallel(n_jobs=-1)]: Using backend LokyBackend with 8 concurrent workers.\n",
      "[Parallel(n_jobs=-1)]: Done  25 tasks      | elapsed:  2.4min\n",
      "[Parallel(n_jobs=-1)]: Done 146 tasks      | elapsed: 12.1min\n",
      "[Parallel(n_jobs=-1)]: Done 300 out of 300 | elapsed: 24.9min finished\n"
     ]
    },
    {
     "data": {
      "text/plain": [
       "RandomizedSearchCV(cv=3, estimator=RandomForestClassifier(), n_iter=100,\n",
       "                   n_jobs=-1,\n",
       "                   param_distributions={'bootstrap': [True, False],\n",
       "                                        'max_depth': [10, 32, 55, 77, 100,\n",
       "                                                      None],\n",
       "                                        'max_features': ['auto', 'sqrt'],\n",
       "                                        'min_samples_leaf': [1, 2, 4],\n",
       "                                        'min_samples_split': [2, 5, 10],\n",
       "                                        'n_estimators': [100, 325, 550, 775,\n",
       "                                                         1000]},\n",
       "                   random_state=42, scoring='roc_auc', verbose=2)"
      ]
     },
     "execution_count": 25,
     "metadata": {},
     "output_type": "execute_result"
    }
   ],
   "source": [
    "rf = RandomForestClassifier()\n",
    "\n",
    "rf_random = RandomizedSearchCV(estimator = rf, param_distributions = random_grid, \n",
    "                               n_iter = 100, cv = 3, verbose=2, random_state=42, n_jobs = -1, scoring='roc_auc')\n",
    "\n",
    "rf_random.fit(X_train, y_train)"
   ]
  },
  {
   "cell_type": "code",
   "execution_count": 26,
   "metadata": {},
   "outputs": [
    {
     "data": {
      "text/plain": [
       "{'n_estimators': 550,\n",
       " 'min_samples_split': 10,\n",
       " 'min_samples_leaf': 4,\n",
       " 'max_features': 'sqrt',\n",
       " 'max_depth': 100,\n",
       " 'bootstrap': False}"
      ]
     },
     "execution_count": 26,
     "metadata": {},
     "output_type": "execute_result"
    }
   ],
   "source": [
    "rf_random.best_params_"
   ]
  },
  {
   "cell_type": "code",
   "execution_count": 27,
   "metadata": {},
   "outputs": [],
   "source": [
    "rf_final = RandomForestClassifier(n_estimators=775, min_samples_split=5, min_samples_leaf=4, \n",
    "                                  max_features='auto', max_depth=10, bootstrap=False)"
   ]
  },
  {
   "cell_type": "code",
   "execution_count": 28,
   "metadata": {},
   "outputs": [
    {
     "data": {
      "text/plain": [
       "RandomForestClassifier(bootstrap=False, max_depth=10, min_samples_leaf=4,\n",
       "                       min_samples_split=5, n_estimators=775)"
      ]
     },
     "execution_count": 28,
     "metadata": {},
     "output_type": "execute_result"
    }
   ],
   "source": [
    "rf_final.fit(train_data, train_label)"
   ]
  },
  {
   "cell_type": "code",
   "execution_count": 29,
   "metadata": {},
   "outputs": [],
   "source": [
    "rf_pred_test = rf_final.predict(X_test)\n",
    "rf_pred_proba_test = pd.DataFrame(rf_final.predict_proba(X_test))[1]"
   ]
  },
  {
   "cell_type": "code",
   "execution_count": 30,
   "metadata": {
    "scrolled": true
   },
   "outputs": [
    {
     "name": "stdout",
     "output_type": "stream",
     "text": [
      "Report for Random Forest Final Model on Test Data\n",
      "\n",
      "******** For i = 0.1 ******\n",
      "Precision:  0.08518518518518518\n",
      "Recall:  0.9857142857142858\n",
      "F2_score:  0.3165137614678899\n",
      "ROC_AUC_Score:  0.9327759020890483\n",
      "\n",
      "******** For i = 0.2 ******\n",
      "Precision:  0.12035398230088495\n",
      "Recall:  0.9714285714285714\n",
      "F2_score:  0.4023668639053255\n",
      "ROC_AUC_Score:  0.9327759020890483\n",
      "\n",
      "******** For i = 0.3 ******\n",
      "Precision:  0.15346534653465346\n",
      "Recall:  0.8857142857142857\n",
      "F2_score:  0.4532163742690058\n",
      "ROC_AUC_Score:  0.9327759020890483\n",
      "\n",
      "******** For i = 0.4 ******\n",
      "Precision:  0.18421052631578946\n",
      "Recall:  0.7\n",
      "F2_score:  0.44871794871794873\n",
      "ROC_AUC_Score:  0.9327759020890483\n",
      "\n",
      "******** For i = 0.5 ******\n",
      "Precision:  0.19858156028368795\n",
      "Recall:  0.4\n",
      "F2_score:  0.332541567695962\n",
      "ROC_AUC_Score:  0.9327759020890483\n",
      "\n",
      "******** For i = 0.6 ******\n",
      "Precision:  0.020833333333333332\n",
      "Recall:  0.014285714285714285\n",
      "F2_score:  0.01524390243902439\n",
      "ROC_AUC_Score:  0.9327759020890483\n",
      "\n",
      "******** For i = 0.7 ******\n",
      "Precision:  0.0\n",
      "Recall:  0.0\n",
      "F2_score:  0.0\n",
      "ROC_AUC_Score:  0.9327759020890483\n",
      "\n",
      "******** For i = 0.8 ******\n",
      "Precision:  0.0\n",
      "Recall:  0.0\n",
      "F2_score:  0.0\n",
      "ROC_AUC_Score:  0.9327759020890483\n",
      "\n",
      "******** For i = 0.9 ******\n",
      "Precision:  0.0\n",
      "Recall:  0.0\n",
      "F2_score:  0.0\n",
      "ROC_AUC_Score:  0.9327759020890483\n"
     ]
    },
    {
     "name": "stderr",
     "output_type": "stream",
     "text": [
      "/Users/jcheah/anaconda3/lib/python3.7/site-packages/sklearn/metrics/_classification.py:1221: UndefinedMetricWarning: Precision is ill-defined and being set to 0.0 due to no predicted samples. Use `zero_division` parameter to control this behavior.\n",
      "  _warn_prf(average, modifier, msg_start, len(result))\n",
      "/Users/jcheah/anaconda3/lib/python3.7/site-packages/sklearn/metrics/_classification.py:1221: UndefinedMetricWarning: Precision is ill-defined and being set to 0.0 due to no predicted samples. Use `zero_division` parameter to control this behavior.\n",
      "  _warn_prf(average, modifier, msg_start, len(result))\n"
     ]
    }
   ],
   "source": [
    "print(\"Report for Random Forest Final Model on Test Data\")\n",
    "print_report(y_test,rf_pred_proba_test)"
   ]
  },
  {
   "cell_type": "code",
   "execution_count": 31,
   "metadata": {},
   "outputs": [
    {
     "name": "stdout",
     "output_type": "stream",
     "text": [
      "0.10155945523430723 Equity_to_TA_4\n",
      "0.05687504378996016 Equity_to_TA_3\n",
      "0.030686310448525572 Equity_to_TA_2\n",
      "0.030065531034050352 ROA_4\n",
      "0.027341142229312308 NI_to_TA_4\n",
      "0.027282755942275354 NPL_to_TL_4\n",
      "0.023764522454107113 NPL_to_TL_3\n",
      "0.0215219467044593 treasury_yield_3m_4\n",
      "0.018699084088355692 Equity_to_TA_1\n",
      "0.017689406344817818 ALLL_to_TL_4\n",
      "0.017118001133351955 treasury_yield_3m_3\n",
      "0.01409248945919774 treasury_yield_3m_2\n",
      "0.013533585701933687 NPL_to_TL_2\n",
      "0.013505467501027615 ALLL_to_TL_3\n",
      "0.01252618423531105 ROA_2\n",
      "0.012335141607271956 ALLL_to_TL_2\n",
      "0.012325296259076402 loss_provision_to_TL_4\n",
      "0.011892232700722191 NPL_to_TL_1\n",
      "0.011850503001459857 NI_to_TA_3\n",
      "0.01113384076964865 NI_to_TA_2\n",
      "0.011097601479439117 NI_to_TA_change_3\n",
      "0.01099141864324462 Equity_to_TA_change_3\n",
      "0.010953785861873563 ROA_3\n",
      "0.010932646059833672 treasury_yield_3m_1\n",
      "0.010881914999764496 ROA_change_3\n",
      "0.010293693619529585 NIM_4\n",
      "0.008663387978803007 NIM_change_3\n",
      "0.008659438989987334 core_deposits_to_TA_change_3\n",
      "0.008326045081982083 NPL_to_TL_change_3\n",
      "0.008210779108412461 ROA_change_1\n",
      "0.008203265955048071 ROA_change_2\n",
      "0.008195318351940307 NI_to_TA_change_1\n",
      "0.008127781804245768 REO_to_TA_4\n",
      "0.007993413316019191 NI_to_TA_change_2\n",
      "0.007959838605333846 ALLL_to_TL_change_3\n",
      "0.0077454411570348535 ALLL_to_TL_1\n",
      "0.0075569325613805425 loss_provision_to_TL_change_3\n",
      "0.007509846186682846 liquid_assets_to_TA_4\n",
      "0.007385801058090422 NIM_3\n",
      "0.007293976991557791 REO_to_TA_1\n",
      "0.007152917895855753 NI_to_TA_1\n",
      "0.007105421057952156 loss_provision_to_TL_2\n",
      "0.006874051751324716 loss_provision_to_TL_3\n",
      "0.006824989916173239 REO_to_TA_3\n",
      "0.006788112142595722 NIM_2\n",
      "0.006644164580913742 Equity_to_TA_change_1\n",
      "0.00663306156742429 NPL_to_TL_change_1\n",
      "0.006559425702130684 core_deposits_to_TA_3\n",
      "0.006476788471236423 core_deposits_to_TA_4\n",
      "0.006470590956594006 REO_to_TA_2\n",
      "0.006431674435965766 NIM_change_2\n",
      "0.006384687312857618 REO_to_TA_change_2\n",
      "0.006330294152335126 ALLL_to_TL_change_2\n",
      "0.00632748224899184 ROA_1\n",
      "0.006317141883864836 NIM_change_1\n",
      "0.006172239916677928 loss_provision_to_TL_1\n",
      "0.006140086164457034 core_deposits_to_TA_change_2\n",
      "0.006085908081466067 loss_provision_to_TL_change_2\n",
      "0.006078332901449106 NIM_1\n",
      "0.006041506817161856 NPL_to_TL_change_2\n",
      "0.006038378668283656 liquid_assets_to_TA_3\n",
      "0.0059485625531636235 core_deposits_to_TA_2\n",
      "0.005915184475400004 log_TA_4\n",
      "0.005824886869569633 loss_provision_to_TL_change_1\n",
      "0.00580400886430501 log_TA_2\n",
      "0.005759787347393936 ALLL_to_TL_change_1\n",
      "0.005652041352844011 Equity_to_TA_change_2\n",
      "0.005606529169227363 log_TA_3\n",
      "0.0055549204168143535 liquid_assets_to_TA_2\n",
      "0.005542033793347024 log_TA_change_2\n",
      "0.005456342197405507 REO_to_TA_change_3\n",
      "0.0054098412420792155 assets_growth_3\n",
      "0.005339171114096305 log_TA_change_1\n",
      "0.005204833774720876 core_deposits_to_TA_1\n",
      "0.005196443779636509 log_TA_1\n",
      "0.005167127252821519 assets_growth_1\n",
      "0.005154961767146642 assets_growth_2\n",
      "0.0050457187397835775 log_max_total_assets\n",
      "0.005043865549265321 assets_growth_4\n",
      "0.004982199757104411 liquid_assets_to_TA_1\n",
      "0.0049680851501249425 core_deposits_to_TA_change_1\n",
      "0.004960071835945285 log_TA_change_3\n",
      "0.004955232072204518 liquid_assets_to_TA_change_3\n",
      "0.004934019900179125 assets_growth_change_1\n",
      "0.004870198732776864 assets_growth_change_2\n",
      "0.004816817167880813 REO_to_TA_change_1\n",
      "0.004739094717805717 liquid_assets_to_TA_change_1\n",
      "0.004581566339316145 assets_growth_change_3\n",
      "0.004212851207951853 liquid_assets_to_TA_change_2\n",
      "0.0031166219716351052 bbb_spread_3\n",
      "0.0030294082097253846 bbb_spread_2\n",
      "0.002454500241727461 unemployment_rate_change_3\n",
      "0.0024493149830086837 bbb_spread_4\n",
      "0.0024465477432340016 bbb_spread_change_4\n",
      "0.0021586247804863687 bbb_spread_1\n",
      "0.002136412962432683 unemployment_rate_change_1\n",
      "0.002044887846204601 stock_mkt_growth_4\n",
      "0.0017882488927720077 unemployment_rate_change_4\n",
      "0.001706876085530648 real_gdp_growth_4\n",
      "0.0015415363670037542 unemployment_rate_change_2\n",
      "0.0013889971183820712 term_spread_3\n",
      "0.0013852565284902152 stock_mkt_growth_3\n",
      "0.0013005278380455291 real_gdp_growth_change_3\n",
      "0.0012654669938970346 term_spread_1\n",
      "0.0012627548064893608 unemployment_rate_change_change_2\n",
      "0.0012279201248522338 real_gdp_growth_1\n",
      "0.00122657157357743 term_spread_2\n",
      "0.0012161799739542724 bbb_spread_change_3\n",
      "0.0012098564492333318 stock_mkt_growth_1\n",
      "0.0011769588956762275 stock_mkt_growth_change_3\n",
      "0.0011058906191074925 bbb_spread_change_2\n",
      "0.001080921453936035 stock_mkt_growth_change_2\n",
      "0.0010737582656657491 real_gdp_growth_3\n",
      "0.0010457872502048836 unemployment_rate_change_change_3\n",
      "0.000957442558799752 real_gdp_growth_2\n",
      "0.0009507618171497847 bbb_spread_change_1\n",
      "0.0009422939808551385 stock_mkt_growth_2\n",
      "0.0009298202502320979 stock_mkt_growth_change_1\n",
      "0.0008639034168973622 treasury_yield_3m_change_2\n",
      "0.0008590200121098005 treasury_yield_3m_change_1\n",
      "0.000848797120554786 term_spread_change_3\n",
      "0.0008425759906186682 real_gdp_growth_change_2\n",
      "0.0008389602676421101 term_spread_change_2\n",
      "0.00082039838655397 term_spread_4\n",
      "0.0008202404695682695 unemployment_rate_change_change_1\n",
      "0.0007932186925932063 real_gdp_growth_change_1\n",
      "0.0007449238742729779 term_spread_change_1\n",
      "0.0006011998834441273 treasury_yield_3m_change_3\n",
      "0.00037668866184017036 brokered_deposits_to_TA_4\n",
      "0.00021527971370032973 brokered_deposits_to_TA_change_1\n",
      "0.00020600060129180014 brokered_deposits_to_TA_3\n",
      "0.00011967743313835426 brokered_deposits_to_TA_change_3\n",
      "8.815767054839657e-05 brokered_deposits_to_TA_2\n",
      "3.6889007519155903e-05 brokered_deposits_to_TA_change_2\n",
      "0.0 brokered_deposits_to_TA_1\n"
     ]
    }
   ],
   "source": [
    "for coef, column in sorted(zip(rf_final.feature_importances_, X_train.columns),key=lambda x: abs(x[0]), reverse=True):\n",
    "    print(coef, column)"
   ]
  },
  {
   "cell_type": "markdown",
   "metadata": {},
   "source": [
    "#### Gradient Boost"
   ]
  },
  {
   "cell_type": "code",
   "execution_count": 32,
   "metadata": {},
   "outputs": [
    {
     "data": {
      "text/plain": [
       "GradientBoostingClassifier(n_estimators=50)"
      ]
     },
     "execution_count": 32,
     "metadata": {},
     "output_type": "execute_result"
    }
   ],
   "source": [
    "gb_final = GradientBoostingClassifier(n_estimators=50,\n",
    "                                    learning_rate=0.1)\n",
    "\n",
    "gb_final.fit(train_data, train_label)"
   ]
  },
  {
   "cell_type": "code",
   "execution_count": 33,
   "metadata": {
    "scrolled": true
   },
   "outputs": [
    {
     "name": "stdout",
     "output_type": "stream",
     "text": [
      "Report for Gradient Boosting Final Model on Test Data\n",
      "\n",
      "******** For i = 0.1 ******\n",
      "Precision:  0.11837455830388692\n",
      "Recall:  0.9571428571428572\n",
      "F2_score:  0.3959810874704492\n",
      "ROC_AUC_Score:  0.9251846381093058\n",
      "\n",
      "******** For i = 0.2 ******\n",
      "Precision:  0.14732142857142858\n",
      "Recall:  0.9428571428571428\n",
      "F2_score:  0.45329670329670335\n",
      "ROC_AUC_Score:  0.9251846381093058\n",
      "\n",
      "******** For i = 0.3 ******\n",
      "Precision:  0.15466666666666667\n",
      "Recall:  0.8285714285714286\n",
      "F2_score:  0.4427480916030535\n",
      "ROC_AUC_Score:  0.9251846381093058\n",
      "\n",
      "******** For i = 0.4 ******\n",
      "Precision:  0.1625\n",
      "Recall:  0.7428571428571429\n",
      "F2_score:  0.4333333333333334\n",
      "ROC_AUC_Score:  0.9251846381093058\n",
      "\n",
      "******** For i = 0.5 ******\n",
      "Precision:  0.17054263565891473\n",
      "Recall:  0.6285714285714286\n",
      "F2_score:  0.40892193308550184\n",
      "ROC_AUC_Score:  0.9251846381093058\n",
      "\n",
      "******** For i = 0.6 ******\n",
      "Precision:  0.1717171717171717\n",
      "Recall:  0.4857142857142857\n",
      "F2_score:  0.35564853556485354\n",
      "ROC_AUC_Score:  0.9251846381093058\n",
      "\n",
      "******** For i = 0.7 ******\n",
      "Precision:  0.17985611510791366\n",
      "Recall:  0.35714285714285715\n",
      "F2_score:  0.29832935560859186\n",
      "ROC_AUC_Score:  0.9251846381093058\n",
      "\n",
      "******** For i = 0.8 ******\n",
      "Precision:  0.18292682926829268\n",
      "Recall:  0.21428571428571427\n",
      "F2_score:  0.20718232044198892\n",
      "ROC_AUC_Score:  0.9251846381093058\n",
      "\n",
      "******** For i = 0.9 ******\n",
      "Precision:  0.045454545454545456\n",
      "Recall:  0.014285714285714285\n",
      "F2_score:  0.016556291390728478\n",
      "ROC_AUC_Score:  0.9251846381093058\n"
     ]
    }
   ],
   "source": [
    "gb_pred_test = gb_final.predict(X_test)\n",
    "gb_pred_proba_test = pd.DataFrame(gb_final.predict_proba(X_test))[1]\n",
    "\n",
    "print(\"Report for Gradient Boosting Final Model on Test Data\")\n",
    "print_report(y_test,gb_pred_proba_test)"
   ]
  },
  {
   "cell_type": "markdown",
   "metadata": {},
   "source": [
    "#### Ensemble - Stacking"
   ]
  },
  {
   "cell_type": "code",
   "execution_count": 34,
   "metadata": {
    "scrolled": true
   },
   "outputs": [
    {
     "name": "stderr",
     "output_type": "stream",
     "text": [
      "/Users/jcheah/anaconda3/lib/python3.7/site-packages/sklearn/linear_model/_logistic.py:764: ConvergenceWarning: lbfgs failed to converge (status=1):\n",
      "STOP: TOTAL NO. of ITERATIONS REACHED LIMIT.\n",
      "\n",
      "Increase the number of iterations (max_iter) or scale the data as shown in:\n",
      "    https://scikit-learn.org/stable/modules/preprocessing.html\n",
      "Please also refer to the documentation for alternative solver options:\n",
      "    https://scikit-learn.org/stable/modules/linear_model.html#logistic-regression\n",
      "  extra_warning_msg=_LOGISTIC_SOLVER_CONVERGENCE_MSG)\n",
      "/Users/jcheah/anaconda3/lib/python3.7/site-packages/sklearn/linear_model/_logistic.py:764: ConvergenceWarning: lbfgs failed to converge (status=1):\n",
      "STOP: TOTAL NO. of ITERATIONS REACHED LIMIT.\n",
      "\n",
      "Increase the number of iterations (max_iter) or scale the data as shown in:\n",
      "    https://scikit-learn.org/stable/modules/preprocessing.html\n",
      "Please also refer to the documentation for alternative solver options:\n",
      "    https://scikit-learn.org/stable/modules/linear_model.html#logistic-regression\n",
      "  extra_warning_msg=_LOGISTIC_SOLVER_CONVERGENCE_MSG)\n",
      "/Users/jcheah/anaconda3/lib/python3.7/site-packages/sklearn/linear_model/_logistic.py:764: ConvergenceWarning: lbfgs failed to converge (status=1):\n",
      "STOP: TOTAL NO. of ITERATIONS REACHED LIMIT.\n",
      "\n",
      "Increase the number of iterations (max_iter) or scale the data as shown in:\n",
      "    https://scikit-learn.org/stable/modules/preprocessing.html\n",
      "Please also refer to the documentation for alternative solver options:\n",
      "    https://scikit-learn.org/stable/modules/linear_model.html#logistic-regression\n",
      "  extra_warning_msg=_LOGISTIC_SOLVER_CONVERGENCE_MSG)\n",
      "/Users/jcheah/anaconda3/lib/python3.7/site-packages/sklearn/linear_model/_logistic.py:764: ConvergenceWarning: lbfgs failed to converge (status=1):\n",
      "STOP: TOTAL NO. of ITERATIONS REACHED LIMIT.\n",
      "\n",
      "Increase the number of iterations (max_iter) or scale the data as shown in:\n",
      "    https://scikit-learn.org/stable/modules/preprocessing.html\n",
      "Please also refer to the documentation for alternative solver options:\n",
      "    https://scikit-learn.org/stable/modules/linear_model.html#logistic-regression\n",
      "  extra_warning_msg=_LOGISTIC_SOLVER_CONVERGENCE_MSG)\n",
      "/Users/jcheah/anaconda3/lib/python3.7/site-packages/sklearn/linear_model/_logistic.py:764: ConvergenceWarning: lbfgs failed to converge (status=1):\n",
      "STOP: TOTAL NO. of ITERATIONS REACHED LIMIT.\n",
      "\n",
      "Increase the number of iterations (max_iter) or scale the data as shown in:\n",
      "    https://scikit-learn.org/stable/modules/preprocessing.html\n",
      "Please also refer to the documentation for alternative solver options:\n",
      "    https://scikit-learn.org/stable/modules/linear_model.html#logistic-regression\n",
      "  extra_warning_msg=_LOGISTIC_SOLVER_CONVERGENCE_MSG)\n",
      "/Users/jcheah/anaconda3/lib/python3.7/site-packages/sklearn/linear_model/_logistic.py:764: ConvergenceWarning: lbfgs failed to converge (status=1):\n",
      "STOP: TOTAL NO. of ITERATIONS REACHED LIMIT.\n",
      "\n",
      "Increase the number of iterations (max_iter) or scale the data as shown in:\n",
      "    https://scikit-learn.org/stable/modules/preprocessing.html\n",
      "Please also refer to the documentation for alternative solver options:\n",
      "    https://scikit-learn.org/stable/modules/linear_model.html#logistic-regression\n",
      "  extra_warning_msg=_LOGISTIC_SOLVER_CONVERGENCE_MSG)\n"
     ]
    },
    {
     "data": {
      "text/plain": [
       "StackingClassifier(estimators=[('rf_clf',\n",
       "                                RandomForestClassifier(n_estimators=200,\n",
       "                                                       random_state=42)),\n",
       "                               ('lr_clf', LogisticRegression(max_iter=200))],\n",
       "                   final_estimator=LogisticRegression(max_iter=200))"
      ]
     },
     "execution_count": 34,
     "metadata": {},
     "output_type": "execute_result"
    }
   ],
   "source": [
    "estimators = [\n",
    "        ('rf_clf', RandomForestClassifier(n_estimators=200, random_state=42)),\n",
    "        ('lr_clf', LogisticRegression(max_iter=200))\n",
    "        ]\n",
    "\n",
    "stacking_final = StackingClassifier(\n",
    "    estimators=estimators, final_estimator=LogisticRegression(max_iter=200)\n",
    ")\n",
    "\n",
    "stacking_final.fit(train_data, train_label)"
   ]
  },
  {
   "cell_type": "code",
   "execution_count": 35,
   "metadata": {
    "scrolled": true
   },
   "outputs": [
    {
     "name": "stdout",
     "output_type": "stream",
     "text": [
      "Report for Final Stacking Model on Test Data\n",
      "\n",
      "******** For i = 0.1 ******\n",
      "Precision:  0.13883299798792756\n",
      "Recall:  0.9857142857142858\n",
      "F2_score:  0.44401544401544396\n",
      "ROC_AUC_Score:  0.9406414855454737\n",
      "\n",
      "******** For i = 0.2 ******\n",
      "Precision:  0.16986301369863013\n",
      "Recall:  0.8857142857142857\n",
      "F2_score:  0.48062015503875966\n",
      "ROC_AUC_Score:  0.9406414855454737\n",
      "\n",
      "******** For i = 0.3 ******\n",
      "Precision:  0.19215686274509805\n",
      "Recall:  0.7\n",
      "F2_score:  0.4579439252336448\n",
      "ROC_AUC_Score:  0.9406414855454737\n",
      "\n",
      "******** For i = 0.4 ******\n",
      "Precision:  0.19672131147540983\n",
      "Recall:  0.5142857142857142\n",
      "F2_score:  0.3887688984881209\n",
      "ROC_AUC_Score:  0.9406414855454737\n",
      "\n",
      "******** For i = 0.5 ******\n",
      "Precision:  0.22764227642276422\n",
      "Recall:  0.4\n",
      "F2_score:  0.3473945409429281\n",
      "ROC_AUC_Score:  0.9406414855454737\n",
      "\n",
      "******** For i = 0.6 ******\n",
      "Precision:  0.1875\n",
      "Recall:  0.17142857142857143\n",
      "F2_score:  0.1744186046511628\n",
      "ROC_AUC_Score:  0.9406414855454737\n",
      "\n",
      "******** For i = 0.7 ******\n",
      "Precision:  0.04\n",
      "Recall:  0.014285714285714285\n",
      "F2_score:  0.01639344262295082\n",
      "ROC_AUC_Score:  0.9406414855454737\n",
      "\n",
      "******** For i = 0.8 ******\n",
      "Precision:  0.0\n",
      "Recall:  0.0\n",
      "F2_score:  0.0\n",
      "ROC_AUC_Score:  0.9406414855454737\n",
      "\n",
      "******** For i = 0.9 ******\n",
      "Precision:  0.0\n",
      "Recall:  0.0\n",
      "F2_score:  0.0\n",
      "ROC_AUC_Score:  0.9406414855454737\n"
     ]
    },
    {
     "name": "stderr",
     "output_type": "stream",
     "text": [
      "/Users/jcheah/anaconda3/lib/python3.7/site-packages/sklearn/metrics/_classification.py:1221: UndefinedMetricWarning: Precision is ill-defined and being set to 0.0 due to no predicted samples. Use `zero_division` parameter to control this behavior.\n",
      "  _warn_prf(average, modifier, msg_start, len(result))\n"
     ]
    }
   ],
   "source": [
    "stacking_test_proba = pd.DataFrame(stacking_final.predict_proba(X_test))[1]\n",
    "\n",
    "print(\"Report for Final Stacking Model on Test Data\")\n",
    "print_report(y_test,stacking_test_proba)"
   ]
  },
  {
   "cell_type": "code",
   "execution_count": null,
   "metadata": {},
   "outputs": [],
   "source": []
  }
 ],
 "metadata": {
  "kernelspec": {
   "display_name": "Python 3",
   "language": "python",
   "name": "python3"
  },
  "language_info": {
   "codemirror_mode": {
    "name": "ipython",
    "version": 3
   },
   "file_extension": ".py",
   "mimetype": "text/x-python",
   "name": "python",
   "nbconvert_exporter": "python",
   "pygments_lexer": "ipython3",
   "version": "3.7.3"
  }
 },
 "nbformat": 4,
 "nbformat_minor": 2
}
