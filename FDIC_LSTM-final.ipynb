{
 "cells": [
  {
   "cell_type": "code",
   "execution_count": 15,
   "metadata": {},
   "outputs": [],
   "source": [
    "import pandas as pd\n",
    "import matplotlib.pyplot as plt\n",
    "from sklearn.model_selection import train_test_split\n",
    "from sklearn.preprocessing import MinMaxScaler\n",
    "import tensorflow as tf\n",
    "from imblearn.over_sampling import SMOTE\n",
    "from keras.models import load_model\n",
    "from keras.models import Sequential\n",
    "from keras.layers import Dense, Dropout, Activation, LSTM\n",
    "from keras.layers.normalization import BatchNormalization\n",
    "from keras.optimizers import Adam\n",
    "from keras.callbacks import EarlyStopping, ModelCheckpoint\n",
    "from sklearn.metrics import roc_auc_score, precision_score\n",
    "from sklearn import metrics \n",
    "import numpy as np\n",
    "from itertools import chain"
   ]
  },
  {
   "cell_type": "code",
   "execution_count": 3,
   "metadata": {},
   "outputs": [],
   "source": [
    "#load train, validation, and test data\n",
    "train = pd.read_csv(\"/Users/jcheah/Documents/MITB/Term 3/AML/Final Project/FDIC_train_new\")\n",
    "val = pd.read_csv(\"/Users/jcheah/Documents/MITB/Term 3/AML/Final Project/FDIC_val_new\")\n",
    "test = pd.read_csv(\"/Users/jcheah/Documents/MITB/Term 3/AML/Final Project/FDIC_test_new\")"
   ]
  },
  {
   "cell_type": "code",
   "execution_count": 4,
   "metadata": {},
   "outputs": [],
   "source": [
    "#drop unnecessary column\n",
    "train.drop(['Unnamed: 0'], axis = 1, inplace = True)\n",
    "val.drop(['Unnamed: 0'], axis = 1, inplace = True)\n",
    "test.drop(['Unnamed: 0'], axis = 1, inplace = True)"
   ]
  },
  {
   "cell_type": "code",
   "execution_count": 5,
   "metadata": {},
   "outputs": [
    {
     "data": {
      "text/html": [
       "<div>\n",
       "<style scoped>\n",
       "    .dataframe tbody tr th:only-of-type {\n",
       "        vertical-align: middle;\n",
       "    }\n",
       "\n",
       "    .dataframe tbody tr th {\n",
       "        vertical-align: top;\n",
       "    }\n",
       "\n",
       "    .dataframe thead th {\n",
       "        text-align: right;\n",
       "    }\n",
       "</style>\n",
       "<table border=\"1\" class=\"dataframe\">\n",
       "  <thead>\n",
       "    <tr style=\"text-align: right;\">\n",
       "      <th></th>\n",
       "      <th>total_assets_1</th>\n",
       "      <th>log_TA_1</th>\n",
       "      <th>NI_to_TA_1</th>\n",
       "      <th>Equity_to_TA_1</th>\n",
       "      <th>NPL_to_TL_1</th>\n",
       "      <th>REO_to_TA_1</th>\n",
       "      <th>ALLL_to_TL_1</th>\n",
       "      <th>core_deposits_to_TA_1</th>\n",
       "      <th>brokered_deposits_to_TA_1</th>\n",
       "      <th>liquid_assets_to_TA_1</th>\n",
       "      <th>...</th>\n",
       "      <th>assets_growth_4</th>\n",
       "      <th>term_spread_4</th>\n",
       "      <th>stock_mkt_growth_4</th>\n",
       "      <th>real_gdp_growth_4</th>\n",
       "      <th>unemployment_rate_change_4</th>\n",
       "      <th>treasury_yield_3m_4</th>\n",
       "      <th>bbb_spread_4</th>\n",
       "      <th>bbb_spread_change_4</th>\n",
       "      <th>max_total_assets_4</th>\n",
       "      <th>Failure</th>\n",
       "    </tr>\n",
       "  </thead>\n",
       "  <tbody>\n",
       "    <tr>\n",
       "      <th>0</th>\n",
       "      <td>11300.0</td>\n",
       "      <td>-1.915942</td>\n",
       "      <td>0.234778</td>\n",
       "      <td>-0.577477</td>\n",
       "      <td>-0.070827</td>\n",
       "      <td>-0.374868</td>\n",
       "      <td>-0.335405</td>\n",
       "      <td>-0.263400</td>\n",
       "      <td>-0.182975</td>\n",
       "      <td>-1.224314</td>\n",
       "      <td>...</td>\n",
       "      <td>-0.704106</td>\n",
       "      <td>1.268158</td>\n",
       "      <td>-1.707009</td>\n",
       "      <td>-0.119978</td>\n",
       "      <td>0.202649</td>\n",
       "      <td>0.066902</td>\n",
       "      <td>0.216947</td>\n",
       "      <td>0.161157</td>\n",
       "      <td>43258.0</td>\n",
       "      <td>0</td>\n",
       "    </tr>\n",
       "    <tr>\n",
       "      <th>1</th>\n",
       "      <td>11206.0</td>\n",
       "      <td>-1.922102</td>\n",
       "      <td>0.489899</td>\n",
       "      <td>-0.550654</td>\n",
       "      <td>-0.362882</td>\n",
       "      <td>-0.234268</td>\n",
       "      <td>-0.376707</td>\n",
       "      <td>-0.514923</td>\n",
       "      <td>-0.182975</td>\n",
       "      <td>-1.326412</td>\n",
       "      <td>...</td>\n",
       "      <td>-0.142293</td>\n",
       "      <td>1.268158</td>\n",
       "      <td>-1.707009</td>\n",
       "      <td>-0.119978</td>\n",
       "      <td>0.202649</td>\n",
       "      <td>0.066902</td>\n",
       "      <td>0.216947</td>\n",
       "      <td>0.161157</td>\n",
       "      <td>43258.0</td>\n",
       "      <td>0</td>\n",
       "    </tr>\n",
       "    <tr>\n",
       "      <th>2</th>\n",
       "      <td>12234.0</td>\n",
       "      <td>-1.857377</td>\n",
       "      <td>0.232075</td>\n",
       "      <td>-0.616682</td>\n",
       "      <td>-0.658730</td>\n",
       "      <td>-0.223355</td>\n",
       "      <td>-0.431984</td>\n",
       "      <td>-0.617907</td>\n",
       "      <td>-0.182975</td>\n",
       "      <td>-1.262651</td>\n",
       "      <td>...</td>\n",
       "      <td>1.089193</td>\n",
       "      <td>1.268158</td>\n",
       "      <td>-1.707009</td>\n",
       "      <td>-0.119978</td>\n",
       "      <td>0.202649</td>\n",
       "      <td>0.066902</td>\n",
       "      <td>0.216947</td>\n",
       "      <td>0.161157</td>\n",
       "      <td>43258.0</td>\n",
       "      <td>0</td>\n",
       "    </tr>\n",
       "    <tr>\n",
       "      <th>3</th>\n",
       "      <td>11781.0</td>\n",
       "      <td>-1.885201</td>\n",
       "      <td>0.389738</td>\n",
       "      <td>-0.581886</td>\n",
       "      <td>-0.695820</td>\n",
       "      <td>-0.374868</td>\n",
       "      <td>-0.342970</td>\n",
       "      <td>-0.214020</td>\n",
       "      <td>-0.182975</td>\n",
       "      <td>-1.300326</td>\n",
       "      <td>...</td>\n",
       "      <td>-0.187529</td>\n",
       "      <td>0.526578</td>\n",
       "      <td>-2.295988</td>\n",
       "      <td>-0.253927</td>\n",
       "      <td>-0.454312</td>\n",
       "      <td>0.006692</td>\n",
       "      <td>1.029487</td>\n",
       "      <td>1.698409</td>\n",
       "      <td>43258.0</td>\n",
       "      <td>0</td>\n",
       "    </tr>\n",
       "    <tr>\n",
       "      <th>4</th>\n",
       "      <td>11853.0</td>\n",
       "      <td>-1.880708</td>\n",
       "      <td>0.547953</td>\n",
       "      <td>-0.545033</td>\n",
       "      <td>0.499780</td>\n",
       "      <td>-0.374868</td>\n",
       "      <td>-0.286405</td>\n",
       "      <td>-0.051837</td>\n",
       "      <td>-0.182975</td>\n",
       "      <td>-1.177203</td>\n",
       "      <td>...</td>\n",
       "      <td>0.633063</td>\n",
       "      <td>0.433881</td>\n",
       "      <td>1.674053</td>\n",
       "      <td>0.951609</td>\n",
       "      <td>0.531129</td>\n",
       "      <td>-0.354567</td>\n",
       "      <td>-0.189323</td>\n",
       "      <td>-0.863677</td>\n",
       "      <td>43258.0</td>\n",
       "      <td>0</td>\n",
       "    </tr>\n",
       "  </tbody>\n",
       "</table>\n",
       "<p>5 rows × 89 columns</p>\n",
       "</div>"
      ],
      "text/plain": [
       "   total_assets_1  log_TA_1  NI_to_TA_1  Equity_to_TA_1  NPL_to_TL_1  \\\n",
       "0         11300.0 -1.915942    0.234778       -0.577477    -0.070827   \n",
       "1         11206.0 -1.922102    0.489899       -0.550654    -0.362882   \n",
       "2         12234.0 -1.857377    0.232075       -0.616682    -0.658730   \n",
       "3         11781.0 -1.885201    0.389738       -0.581886    -0.695820   \n",
       "4         11853.0 -1.880708    0.547953       -0.545033     0.499780   \n",
       "\n",
       "   REO_to_TA_1  ALLL_to_TL_1  core_deposits_to_TA_1  \\\n",
       "0    -0.374868     -0.335405              -0.263400   \n",
       "1    -0.234268     -0.376707              -0.514923   \n",
       "2    -0.223355     -0.431984              -0.617907   \n",
       "3    -0.374868     -0.342970              -0.214020   \n",
       "4    -0.374868     -0.286405              -0.051837   \n",
       "\n",
       "   brokered_deposits_to_TA_1  liquid_assets_to_TA_1  ...  assets_growth_4  \\\n",
       "0                  -0.182975              -1.224314  ...        -0.704106   \n",
       "1                  -0.182975              -1.326412  ...        -0.142293   \n",
       "2                  -0.182975              -1.262651  ...         1.089193   \n",
       "3                  -0.182975              -1.300326  ...        -0.187529   \n",
       "4                  -0.182975              -1.177203  ...         0.633063   \n",
       "\n",
       "   term_spread_4  stock_mkt_growth_4  real_gdp_growth_4  \\\n",
       "0       1.268158           -1.707009          -0.119978   \n",
       "1       1.268158           -1.707009          -0.119978   \n",
       "2       1.268158           -1.707009          -0.119978   \n",
       "3       0.526578           -2.295988          -0.253927   \n",
       "4       0.433881            1.674053           0.951609   \n",
       "\n",
       "   unemployment_rate_change_4  treasury_yield_3m_4  bbb_spread_4  \\\n",
       "0                    0.202649             0.066902      0.216947   \n",
       "1                    0.202649             0.066902      0.216947   \n",
       "2                    0.202649             0.066902      0.216947   \n",
       "3                   -0.454312             0.006692      1.029487   \n",
       "4                    0.531129            -0.354567     -0.189323   \n",
       "\n",
       "   bbb_spread_change_4  max_total_assets_4  Failure  \n",
       "0             0.161157             43258.0        0  \n",
       "1             0.161157             43258.0        0  \n",
       "2             0.161157             43258.0        0  \n",
       "3             1.698409             43258.0        0  \n",
       "4            -0.863677             43258.0        0  \n",
       "\n",
       "[5 rows x 89 columns]"
      ]
     },
     "execution_count": 5,
     "metadata": {},
     "output_type": "execute_result"
    }
   ],
   "source": [
    "train.head()"
   ]
  },
  {
   "cell_type": "code",
   "execution_count": 6,
   "metadata": {},
   "outputs": [
    {
     "data": {
      "text/plain": [
       "(8838, 89)"
      ]
     },
     "execution_count": 6,
     "metadata": {},
     "output_type": "execute_result"
    }
   ],
   "source": [
    "train.shape"
   ]
  },
  {
   "cell_type": "code",
   "execution_count": 7,
   "metadata": {},
   "outputs": [],
   "source": [
    "y_train = train.iloc[:, -1]\n",
    "x_train = train.iloc[:, :88]\n",
    "#oversample the positive classes by SMOTE\n",
    "x_train, y_train = SMOTE().fit_resample(x_train, y_train)\n",
    "#normalise the data\n",
    "x_train = MinMaxScaler().fit_transform(x_train) \n",
    "y_train = y_train.astype('int')\n",
    "#reshape the data to 3 dimensions by num of rows, num of quarters and num of columns\n",
    "x_train = x_train.reshape(x_train.shape[0], 4, 22)\n"
   ]
  },
  {
   "cell_type": "code",
   "execution_count": 8,
   "metadata": {},
   "outputs": [],
   "source": [
    "y_val = val.iloc[:, -1]\n",
    "x_val = val.iloc[:, :88]\n",
    "x_val = MinMaxScaler().fit_transform(x_val) \n",
    "y_val = y_val.astype('int')\n",
    "x_val = x_val.reshape(x_val.shape[0], 4, 22)"
   ]
  },
  {
   "cell_type": "code",
   "execution_count": 9,
   "metadata": {},
   "outputs": [],
   "source": [
    "y_test = test.iloc[:, -1]\n",
    "x_test = test.iloc[:, :88]\n",
    "x_test = MinMaxScaler().fit_transform(x_test) \n",
    "y_test = y_test.astype('int')\n",
    "x_test = x_test.reshape(x_test.shape[0], 4, 22)"
   ]
  },
  {
   "cell_type": "code",
   "execution_count": 10,
   "metadata": {},
   "outputs": [
    {
     "data": {
      "text/plain": [
       "1    8512\n",
       "0    8512\n",
       "Name: Failure, dtype: int64"
      ]
     },
     "execution_count": 10,
     "metadata": {},
     "output_type": "execute_result"
    }
   ],
   "source": [
    "pd.DataFrame(y_train).Failure.value_counts()"
   ]
  },
  {
   "cell_type": "code",
   "execution_count": 11,
   "metadata": {},
   "outputs": [
    {
     "data": {
      "text/plain": [
       "0    2091\n",
       "1      66\n",
       "Name: Failure, dtype: int64"
      ]
     },
     "execution_count": 11,
     "metadata": {},
     "output_type": "execute_result"
    }
   ],
   "source": [
    "pd.DataFrame(y_val).Failure.value_counts()"
   ]
  },
  {
   "cell_type": "code",
   "execution_count": 12,
   "metadata": {},
   "outputs": [
    {
     "data": {
      "text/plain": [
       "0    2708\n",
       "1      70\n",
       "Name: Failure, dtype: int64"
      ]
     },
     "execution_count": 12,
     "metadata": {},
     "output_type": "execute_result"
    }
   ],
   "source": [
    "pd.DataFrame(y_test).Failure.value_counts()"
   ]
  },
  {
   "cell_type": "code",
   "execution_count": 165,
   "metadata": {},
   "outputs": [
    {
     "name": "stdout",
     "output_type": "stream",
     "text": [
      "Model: \"sequential_37\"\n",
      "_________________________________________________________________\n",
      "Layer (type)                 Output Shape              Param #   \n",
      "=================================================================\n",
      "lstm_122 (LSTM)              (None, 4, 128)            77312     \n",
      "_________________________________________________________________\n",
      "dropout_85 (Dropout)         (None, 4, 128)            0         \n",
      "_________________________________________________________________\n",
      "lstm_123 (LSTM)              (None, 4, 64)             49408     \n",
      "_________________________________________________________________\n",
      "dropout_86 (Dropout)         (None, 4, 64)             0         \n",
      "_________________________________________________________________\n",
      "lstm_124 (LSTM)              (None, 4, 32)             12416     \n",
      "_________________________________________________________________\n",
      "dropout_87 (Dropout)         (None, 4, 32)             0         \n",
      "_________________________________________________________________\n",
      "lstm_125 (LSTM)              (None, 16)                3136      \n",
      "_________________________________________________________________\n",
      "dense_64 (Dense)             (None, 16)                272       \n",
      "_________________________________________________________________\n",
      "dense_65 (Dense)             (None, 1)                 17        \n",
      "=================================================================\n",
      "Total params: 142,561\n",
      "Trainable params: 142,561\n",
      "Non-trainable params: 0\n",
      "_________________________________________________________________\n",
      "Epoch 1/4\n",
      "266/266 [==============================] - 2s 8ms/step - loss: 0.1366 - val_loss: 0.1466\n",
      "Epoch 2/4\n",
      "266/266 [==============================] - 2s 6ms/step - loss: 0.0753 - val_loss: 0.1868\n",
      "Epoch 3/4\n",
      "266/266 [==============================] - 2s 6ms/step - loss: 0.0735 - val_loss: 0.1627\n",
      "Epoch 4/4\n",
      "266/266 [==============================] - 2s 6ms/step - loss: 0.0696 - val_loss: 0.2030\n"
     ]
    },
    {
     "data": {
      "text/plain": [
       "<tensorflow.python.keras.callbacks.History at 0x7fae250fde10>"
      ]
     },
     "execution_count": 165,
     "metadata": {},
     "output_type": "execute_result"
    }
   ],
   "source": [
    "def buildManyToOneModel(shape):\n",
    "    model = Sequential()\n",
    "    model.add(LSTM(128, input_shape=(shape[1], shape[2]), return_sequences = True))\n",
    "    model.add(Dropout(0.3))\n",
    "    model.add(LSTM(64, return_sequences = True, activation = 'relu'))\n",
    "    model.add(Dropout(0.3))\n",
    "    model.add(LSTM(32, return_sequences = True, activation = 'relu'))\n",
    "    model.add(Dropout(0.3))\n",
    "    model.add(LSTM(16, activation = 'relu'))\n",
    "    \n",
    "    model.add(Dense(16, activation = 'relu'))\n",
    "    # output shape: (1, 1)\n",
    "    model.add(Dense(1, activation = 'relu'))\n",
    "              \n",
    "    opt = tf.keras.optimizers.Adam(lr = 1e-2)\n",
    "    model.compile(loss=\"mse\", optimizer=opt)\n",
    "    model.summary()\n",
    "    return model\n",
    "\n",
    "model = buildManyToOneModel(x_train.shape)\n",
    "model.fit(x_train, y_train, epochs=4, batch_size=64, validation_data=(x_val, y_val))"
   ]
  },
  {
   "cell_type": "code",
   "execution_count": 166,
   "metadata": {},
   "outputs": [
    {
     "data": {
      "text/plain": [
       "2157"
      ]
     },
     "execution_count": 166,
     "metadata": {},
     "output_type": "execute_result"
    }
   ],
   "source": [
    "lstm_pred = model.predict(x_val)\n",
    "lstm_pred = np.ndarray.tolist(lstm_pred)\n",
    "#remove the list \n",
    "lstm_pred = list(chain.from_iterable(lstm_pred))\n",
    "len(lstm_pred)"
   ]
  },
  {
   "cell_type": "code",
   "execution_count": 167,
   "metadata": {},
   "outputs": [
    {
     "name": "stdout",
     "output_type": "stream",
     "text": [
      "\n",
      "******** For i = 0.1 ****** \n",
      " Precision: 0.08672798948751642 \n",
      " Recall: 1.0 \n",
      " F2_score: 0.32195121951219513 \n",
      " ROC_AUC_Score: 0.9394664000115936\n",
      "\n",
      "******** For i = 0.2 ****** \n",
      " Precision: 0.09065934065934066 \n",
      " Recall: 1.0 \n",
      " F2_score: 0.3326612903225806 \n",
      " ROC_AUC_Score: 0.9394664000115936\n",
      "\n",
      "******** For i = 0.3 ****** \n",
      " Precision: 0.09361702127659574 \n",
      " Recall: 1.0 \n",
      " F2_score: 0.34055727554179566 \n",
      " ROC_AUC_Score: 0.9394664000115936\n",
      "\n",
      "******** For i = 0.4 ****** \n",
      " Precision: 0.09850746268656717 \n",
      " Recall: 1.0 \n",
      " F2_score: 0.3533190578158458 \n",
      " ROC_AUC_Score: 0.9394664000115936\n",
      "\n",
      "******** For i = 0.5 ****** \n",
      " Precision: 0.10107197549770292 \n",
      " Recall: 1.0 \n",
      " F2_score: 0.3598691384950927 \n",
      " ROC_AUC_Score: 0.9394664000115936\n",
      "\n",
      "******** For i = 0.6 ****** \n",
      " Precision: 0.10610932475884244 \n",
      " Recall: 1.0 \n",
      " F2_score: 0.3724604966139955 \n",
      " ROC_AUC_Score: 0.9394664000115936\n",
      "\n",
      "******** For i = 0.7 ****** \n",
      " Precision: 0.11478260869565217 \n",
      " Recall: 1.0 \n",
      " F2_score: 0.3933253873659118 \n",
      " ROC_AUC_Score: 0.9394664000115936\n",
      "\n",
      "******** For i = 0.8 ****** \n",
      " Precision: 0.12845849802371542 \n",
      " Recall: 0.9848484848484849 \n",
      " F2_score: 0.4220779220779221 \n",
      " ROC_AUC_Score: 0.9394664000115936\n",
      "\n",
      "******** For i = 0.9 ****** \n",
      " Precision: 0.1623931623931624 \n",
      " Recall: 0.8636363636363636 \n",
      " F2_score: 0.4634146341463415 \n",
      " ROC_AUC_Score: 0.9394664000115936\n",
      "\n",
      "******** For i = 1.0 ****** \n",
      " Precision: 0.0 \n",
      " Recall: 0.0 \n",
      " F2_score: 0.0 \n",
      " ROC_AUC_Score: 0.9394664000115936\n"
     ]
    },
    {
     "name": "stderr",
     "output_type": "stream",
     "text": [
      "/Users/jcheah/anaconda3/lib/python3.7/site-packages/sklearn/metrics/_classification.py:1221: UndefinedMetricWarning: Precision is ill-defined and being set to 0.0 due to no predicted samples. Use `zero_division` parameter to control this behavior.\n",
      "  _warn_prf(average, modifier, msg_start, len(result))\n"
     ]
    }
   ],
   "source": [
    "threshold = [0.1, 0.2, 0.3, 0.4, 0.5, 0.6, 0.7, 0.8, 0.9, 1.0]\n",
    "\n",
    "for th in threshold:\n",
    "    lstm_pred_int = [1 if i >= th else 0 for i in lstm_pred]\n",
    "    precision = metrics.precision_score(y_val, lstm_pred_int)\n",
    "    recall = metrics.recall_score(y_val, lstm_pred_int)\n",
    "    F2_score = metrics.fbeta_score(y_val, lstm_pred_int, beta = 2)\n",
    "    area_under_roc = roc_auc_score(y_val, lstm_pred)\n",
    "\n",
    "    print(f'\\n******** For i = {th} ****** \\n',\n",
    "          f'Precision: {precision} \\n',\n",
    "          f'Recall: {recall} \\n',\n",
    "          f'F2_score: {F2_score} \\n',\n",
    "          f'ROC_AUC_Score: {area_under_roc}')\n",
    "    lstm_pred_int = []"
   ]
  },
  {
   "cell_type": "code",
   "execution_count": 170,
   "metadata": {},
   "outputs": [],
   "source": [
    "model.save('bank_bankruptcy_lstm_model.h5')"
   ]
  },
  {
   "cell_type": "code",
   "execution_count": 171,
   "metadata": {},
   "outputs": [],
   "source": [
    "model = load_model('bank_bankruptcy_lstm_model.h5')"
   ]
  },
  {
   "cell_type": "code",
   "execution_count": 168,
   "metadata": {},
   "outputs": [],
   "source": [
    "#predict on test_data\n",
    "y_pred  = model.predict(x_test.reshape(x_test.shape[0], 4, 22))"
   ]
  },
  {
   "cell_type": "code",
   "execution_count": 169,
   "metadata": {},
   "outputs": [
    {
     "name": "stdout",
     "output_type": "stream",
     "text": [
      "\n",
      "******** For i = 0.1 ****** \n",
      " Precision: 0.05546218487394958 \n",
      " Recall: 0.9428571428571428 \n",
      " F2_score: 0.22448979591836737 \n",
      " ROC_AUC_Score: 0.8811932897235705\n",
      "\n",
      "******** For i = 0.2 ****** \n",
      " Precision: 0.05871886120996441 \n",
      " Recall: 0.9428571428571428 \n",
      " F2_score: 0.23504273504273507 \n",
      " ROC_AUC_Score: 0.8811932897235705\n",
      "\n",
      "******** For i = 0.3 ****** \n",
      " Precision: 0.060129509713228495 \n",
      " Recall: 0.9285714285714286 \n",
      " F2_score: 0.2387950036737693 \n",
      " ROC_AUC_Score: 0.8811932897235705\n",
      "\n",
      "******** For i = 0.4 ****** \n",
      " Precision: 0.06177606177606178 \n",
      " Recall: 0.9142857142857143 \n",
      " F2_score: 0.243161094224924 \n",
      " ROC_AUC_Score: 0.8811932897235705\n",
      "\n",
      "******** For i = 0.5 ****** \n",
      " Precision: 0.06451612903225806 \n",
      " Recall: 0.9142857142857143 \n",
      " F2_score: 0.25157232704402516 \n",
      " ROC_AUC_Score: 0.8811932897235705\n",
      "\n",
      "******** For i = 0.6 ****** \n",
      " Precision: 0.06823027718550106 \n",
      " Recall: 0.9142857142857143 \n",
      " F2_score: 0.2627257799671593 \n",
      " ROC_AUC_Score: 0.8811932897235705\n",
      "\n",
      "******** For i = 0.7 ****** \n",
      " Precision: 0.07655502392344497 \n",
      " Recall: 0.9142857142857143 \n",
      " F2_score: 0.2867383512544803 \n",
      " ROC_AUC_Score: 0.8811932897235705\n",
      "\n",
      "******** For i = 0.8 ****** \n",
      " Precision: 0.08931185944363104 \n",
      " Recall: 0.8714285714285714 \n",
      " F2_score: 0.31671858774662515 \n",
      " ROC_AUC_Score: 0.8811932897235705\n",
      "\n",
      "******** For i = 0.9 ****** \n",
      " Precision: 0.12655086848635236 \n",
      " Recall: 0.7285714285714285 \n",
      " F2_score: 0.3733528550512445 \n",
      " ROC_AUC_Score: 0.8811932897235705\n",
      "\n",
      "******** For i = 1.0 ****** \n",
      " Precision: 0.0 \n",
      " Recall: 0.0 \n",
      " F2_score: 0.0 \n",
      " ROC_AUC_Score: 0.8811932897235705\n"
     ]
    },
    {
     "name": "stderr",
     "output_type": "stream",
     "text": [
      "/Users/jcheah/anaconda3/lib/python3.7/site-packages/sklearn/metrics/_classification.py:1221: UndefinedMetricWarning: Precision is ill-defined and being set to 0.0 due to no predicted samples. Use `zero_division` parameter to control this behavior.\n",
      "  _warn_prf(average, modifier, msg_start, len(result))\n"
     ]
    }
   ],
   "source": [
    "#test_data by different thresholds\n",
    "\n",
    "threshold = [0.1, 0.2, 0.3, 0.4, 0.5, 0.6, 0.7, 0.8, 0.9, 1.0]\n",
    "\n",
    "for th in threshold:\n",
    "    \n",
    "    y_class = [1 if i >= th else 0 for i in y_pred] \n",
    "    precision = metrics.precision_score(y_test, y_class)\n",
    "    recall = metrics.recall_score(y_test, y_class)\n",
    "    F2_score = metrics.fbeta_score(y_test, y_class, beta = 2)\n",
    "    area_under_roc = roc_auc_score(y_test, y_pred)\n",
    "\n",
    "    print(f'\\n******** For i = {th} ****** \\n',\n",
    "          f'Precision: {precision} \\n',\n",
    "          f'Recall: {recall} \\n',\n",
    "          f'F2_score: {F2_score} \\n',\n",
    "          f'ROC_AUC_Score: {area_under_roc}')"
   ]
  }
 ],
 "metadata": {
  "kernelspec": {
   "display_name": "Python 3",
   "language": "python",
   "name": "python3"
  },
  "language_info": {
   "codemirror_mode": {
    "name": "ipython",
    "version": 3
   },
   "file_extension": ".py",
   "mimetype": "text/x-python",
   "name": "python",
   "nbconvert_exporter": "python",
   "pygments_lexer": "ipython3",
   "version": "3.7.3"
  }
 },
 "nbformat": 4,
 "nbformat_minor": 2
}
