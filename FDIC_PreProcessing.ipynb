{
 "cells": [
  {
   "cell_type": "code",
   "execution_count": 1,
   "metadata": {},
   "outputs": [],
   "source": [
    "import pandas as pd\n",
    "import numpy as np\n",
    "from matplotlib import pyplot as plt\n",
    "import time\n",
    "%matplotlib inline"
   ]
  },
  {
   "cell_type": "code",
   "execution_count": 2,
   "metadata": {},
   "outputs": [
    {
     "name": "stderr",
     "output_type": "stream",
     "text": [
      "/Users/jcheah/anaconda3/lib/python3.7/site-packages/IPython/core/interactiveshell.py:3057: DtypeWarning: Columns (3,6) have mixed types. Specify dtype option on import or set low_memory=False.\n",
      "  interactivity=interactivity, compiler=compiler, result=result)\n"
     ]
    }
   ],
   "source": [
    "df = pd.read_csv('FDIC_data.csv')"
   ]
  },
  {
   "cell_type": "code",
   "execution_count": 3,
   "metadata": {},
   "outputs": [
    {
     "data": {
      "text/plain": [
       "Index(['IDRSSD', 'date', 'Financial Institution Name', 'Institution Name ',\n",
       "       'total_assets', 'defaulter', 'Failure / Assistance ', 'log_TA',\n",
       "       'NI_to_TA', 'Equity_to_TA', 'NPL_to_TL', 'REO_to_TA', 'ALLL_to_TL',\n",
       "       'core_deposits_to_TA', 'brokered_deposits_to_TA', 'liquid_assets_to_TA',\n",
       "       'loss_provision_to_TL', 'ROA', 'NIM', 'assets_growth', 'term_spread',\n",
       "       'stock_mkt_growth', 'real_gdp_growth', 'unemployment_rate_change',\n",
       "       'treasury_yield_3m', 'bbb_spread', 'bbb_spread_change',\n",
       "       'log_TA_plus_1Q', 'NI_to_TA_plus_1Q', 'Equity_to_TA_plus_1Q',\n",
       "       'NPL_to_TL_plus_1Q', 'REO_to_TA_plus_1Q', 'ALLL_to_TL_plus_1Q',\n",
       "       'core_deposits_to_TA_plus_1Q', 'brokered_deposits_to_TA_plus_1Q',\n",
       "       'liquid_assets_to_TA_plus_1Q', 'loss_provision_to_TL_plus_1Q',\n",
       "       'ROA_plus_1Q', 'NIM_plus_1Q', 'assets_growth_plus_1Q',\n",
       "       'default_within_1Y', 'Failure', 'max_total_assets'],\n",
       "      dtype='object')"
      ]
     },
     "execution_count": 3,
     "metadata": {},
     "output_type": "execute_result"
    }
   ],
   "source": [
    "df.columns"
   ]
  },
  {
   "cell_type": "markdown",
   "metadata": {},
   "source": [
    "#### df.drop(columns=['Financial Institution Name','Institution Name ','defaulter','Failure / Assistance ',\n",
    "                 'default_within_1Y','log_TA_plus_1Q', 'NI_to_TA_plus_1Q', 'Equity_to_TA_plus_1Q',\n",
    "       'NPL_to_TL_plus_1Q', 'REO_to_TA_plus_1Q', 'ALLL_to_TL_plus_1Q',\n",
    "       'core_deposits_to_TA_plus_1Q', 'brokered_deposits_to_TA_plus_1Q',\n",
    "       'liquid_assets_to_TA_plus_1Q', 'loss_provision_to_TL_plus_1Q',\n",
    "       'ROA_plus_1Q', 'NIM_plus_1Q', 'assets_growth_plus_1Q',],axis=1,inplace=True)"
   ]
  },
  {
   "cell_type": "code",
   "execution_count": 4,
   "metadata": {},
   "outputs": [],
   "source": [
    "df_failure = df[df.Failure == 1.0]"
   ]
  },
  {
   "cell_type": "code",
   "execution_count": 5,
   "metadata": {},
   "outputs": [
    {
     "name": "stderr",
     "output_type": "stream",
     "text": [
      "/Users/jcheah/anaconda3/lib/python3.7/site-packages/ipykernel_launcher.py:1: SettingWithCopyWarning: \n",
      "A value is trying to be set on a copy of a slice from a DataFrame.\n",
      "Try using .loc[row_indexer,col_indexer] = value instead\n",
      "\n",
      "See the caveats in the documentation: http://pandas.pydata.org/pandas-docs/stable/indexing.html#indexing-view-versus-copy\n",
      "  \"\"\"Entry point for launching an IPython kernel.\n"
     ]
    }
   ],
   "source": [
    "df_failure['date'] = pd.to_datetime(df_failure['date'])"
   ]
  },
  {
   "cell_type": "code",
   "execution_count": 6,
   "metadata": {},
   "outputs": [],
   "source": [
    "train_end_timestamp = pd.Timestamp('2011-01-01')\n",
    "validation_end_timestamp = pd.Timestamp('2012-01-01')\n",
    "train_IDRSSD = df_failure[df_failure.date <= train_end_timestamp].IDRSSD.values\n",
    "validation_IDRSSD = df_failure[(df_failure.date > train_end_timestamp) & (df_failure.date <= validation_end_timestamp)].IDRSSD.values\n",
    "test_IDRSSD = df_failure[df_failure.date > validation_end_timestamp].IDRSSD.values"
   ]
  },
  {
   "cell_type": "code",
   "execution_count": 7,
   "metadata": {},
   "outputs": [
    {
     "name": "stdout",
     "output_type": "stream",
     "text": [
      "(326,) (66,) (70,)\n"
     ]
    }
   ],
   "source": [
    "print(train_IDRSSD.shape, validation_IDRSSD.shape, test_IDRSSD.shape)"
   ]
  },
  {
   "cell_type": "code",
   "execution_count": 8,
   "metadata": {},
   "outputs": [],
   "source": [
    "train_df = df[df.IDRSSD.isin(train_IDRSSD)]\n",
    "validation_df = df[df.IDRSSD.isin(validation_IDRSSD)]\n",
    "test_df = df[df.IDRSSD.isin(test_IDRSSD)]"
   ]
  },
  {
   "cell_type": "code",
   "execution_count": 9,
   "metadata": {},
   "outputs": [
    {
     "name": "stdout",
     "output_type": "stream",
     "text": [
      "(10142, 43) (2421, 43) (3058, 43)\n"
     ]
    }
   ],
   "source": [
    "print(train_df.shape, validation_df.shape, test_df.shape)"
   ]
  },
  {
   "cell_type": "code",
   "execution_count": 10,
   "metadata": {},
   "outputs": [
    {
     "data": {
      "text/plain": [
       "Index(['IDRSSD', 'date', 'Financial Institution Name', 'Institution Name ',\n",
       "       'total_assets', 'defaulter', 'Failure / Assistance ', 'log_TA',\n",
       "       'NI_to_TA', 'Equity_to_TA', 'NPL_to_TL', 'REO_to_TA', 'ALLL_to_TL',\n",
       "       'core_deposits_to_TA', 'brokered_deposits_to_TA', 'liquid_assets_to_TA',\n",
       "       'loss_provision_to_TL', 'ROA', 'NIM', 'assets_growth', 'term_spread',\n",
       "       'stock_mkt_growth', 'real_gdp_growth', 'unemployment_rate_change',\n",
       "       'treasury_yield_3m', 'bbb_spread', 'bbb_spread_change',\n",
       "       'log_TA_plus_1Q', 'NI_to_TA_plus_1Q', 'Equity_to_TA_plus_1Q',\n",
       "       'NPL_to_TL_plus_1Q', 'REO_to_TA_plus_1Q', 'ALLL_to_TL_plus_1Q',\n",
       "       'core_deposits_to_TA_plus_1Q', 'brokered_deposits_to_TA_plus_1Q',\n",
       "       'liquid_assets_to_TA_plus_1Q', 'loss_provision_to_TL_plus_1Q',\n",
       "       'ROA_plus_1Q', 'NIM_plus_1Q', 'assets_growth_plus_1Q',\n",
       "       'default_within_1Y', 'Failure', 'max_total_assets'],\n",
       "      dtype='object')"
      ]
     },
     "execution_count": 10,
     "metadata": {},
     "output_type": "execute_result"
    }
   ],
   "source": [
    "train_df.columns"
   ]
  },
  {
   "cell_type": "code",
   "execution_count": 11,
   "metadata": {},
   "outputs": [],
   "source": [
    "def create_data_by_group(group:  pd.DataFrame, freq=4):\n",
    "    if group.shape[0] < freq:\n",
    "        return\n",
    "    group = group.copy()\n",
    "    label_collection = group['Failure'].values\n",
    "    group.drop(['IDRSSD', 'date', 'Failure'], axis=1, inplace=True)\n",
    "    generated_columns = []\n",
    "    for i in range(freq):\n",
    "        generated_columns.extend([item + '_' + str(i + 1) for item in group.columns])\n",
    "    generated_data = []\n",
    "    for i in range(len(group) - freq + 1):\n",
    "        tmp = group[i: (i + freq)].values\n",
    "        tmp = tmp.reshape((1,-1))\n",
    "        assert tmp.shape[1] == len(generated_columns)\n",
    "        tmp = pd.DataFrame(tmp, columns=generated_columns)\n",
    "        if 1. in label_collection[i: (i + freq)]:\n",
    "            tmp['Failure'] = 1\n",
    "        else:\n",
    "            tmp['Failure'] = 0\n",
    "        generated_data.append(tmp)\n",
    "    return pd.concat(generated_data)"
   ]
  },
  {
   "cell_type": "code",
   "execution_count": 12,
   "metadata": {},
   "outputs": [],
   "source": [
    "def create_data(df, freq):\n",
    "    df = df.copy()\n",
    "    grouped_df = df.groupby(['IDRSSD'])\n",
    "    generated_data = []\n",
    "    for _, group in grouped_df:\n",
    "        tmp = create_data_by_group(group)\n",
    "        if tmp is not None:\n",
    "            generated_data.append(tmp)\n",
    "    return pd.concat(generated_data)"
   ]
  },
  {
   "cell_type": "code",
   "execution_count": 13,
   "metadata": {},
   "outputs": [],
   "source": [
    "train_data = create_data(train_df, 4)\n",
    "validation_data = create_data(validation_df, 4)\n",
    "test_data = create_data(test_df, 4)"
   ]
  },
  {
   "cell_type": "code",
   "execution_count": 21,
   "metadata": {},
   "outputs": [
    {
     "data": {
      "text/plain": [
       "0    8838\n",
       "1     326\n",
       "Name: Failure, dtype: int64"
      ]
     },
     "execution_count": 21,
     "metadata": {},
     "output_type": "execute_result"
    }
   ],
   "source": [
    "train_data.Failure.value_counts()"
   ]
  },
  {
   "cell_type": "code",
   "execution_count": 22,
   "metadata": {},
   "outputs": [
    {
     "data": {
      "text/plain": [
       "0    2157\n",
       "1      66\n",
       "Name: Failure, dtype: int64"
      ]
     },
     "execution_count": 22,
     "metadata": {},
     "output_type": "execute_result"
    }
   ],
   "source": [
    "validation_data.Failure.value_counts()"
   ]
  },
  {
   "cell_type": "code",
   "execution_count": 25,
   "metadata": {},
   "outputs": [
    {
     "data": {
      "text/plain": [
       "0    2778\n",
       "1      70\n",
       "Name: Failure, dtype: int64"
      ]
     },
     "execution_count": 25,
     "metadata": {},
     "output_type": "execute_result"
    }
   ],
   "source": [
    "test_data.Failure.value_counts()\n"
   ]
  },
  {
   "cell_type": "code",
   "execution_count": 26,
   "metadata": {},
   "outputs": [
    {
     "name": "stdout",
     "output_type": "stream",
     "text": [
      "Requirement already satisfied: h5py in /Users/jcheah/anaconda3/lib/python3.7/site-packages (2.10.0)\n",
      "Requirement already satisfied: numpy>=1.7 in /Users/jcheah/anaconda3/lib/python3.7/site-packages (from h5py) (1.16.4)\n",
      "Requirement already satisfied: six in /Users/jcheah/anaconda3/lib/python3.7/site-packages (from h5py) (1.12.0)\n",
      "Note: you may need to restart the kernel to use updated packages.\n"
     ]
    }
   ],
   "source": [
    "pip install h5py"
   ]
  },
  {
   "cell_type": "code",
   "execution_count": 19,
   "metadata": {},
   "outputs": [
    {
     "data": {
      "text/plain": [
       "Index(['total_assets_1', 'log_TA_1', 'NI_to_TA_1', 'Equity_to_TA_1',\n",
       "       'NPL_to_TL_1', 'REO_to_TA_1', 'ALLL_to_TL_1', 'core_deposits_to_TA_1',\n",
       "       'brokered_deposits_to_TA_1', 'liquid_assets_to_TA_1',\n",
       "       'loss_provision_to_TL_1', 'ROA_1', 'NIM_1', 'assets_growth_1',\n",
       "       'term_spread_1', 'stock_mkt_growth_1', 'real_gdp_growth_1',\n",
       "       'unemployment_rate_change_1', 'treasury_yield_3m_1', 'bbb_spread_1',\n",
       "       'bbb_spread_change_1', 'max_total_assets_1', 'total_assets_2',\n",
       "       'log_TA_2', 'NI_to_TA_2', 'Equity_to_TA_2', 'NPL_to_TL_2',\n",
       "       'REO_to_TA_2', 'ALLL_to_TL_2', 'core_deposits_to_TA_2',\n",
       "       'brokered_deposits_to_TA_2', 'liquid_assets_to_TA_2',\n",
       "       'loss_provision_to_TL_2', 'ROA_2', 'NIM_2', 'assets_growth_2',\n",
       "       'term_spread_2', 'stock_mkt_growth_2', 'real_gdp_growth_2',\n",
       "       'unemployment_rate_change_2', 'treasury_yield_3m_2', 'bbb_spread_2',\n",
       "       'bbb_spread_change_2', 'max_total_assets_2', 'total_assets_3',\n",
       "       'log_TA_3', 'NI_to_TA_3', 'Equity_to_TA_3', 'NPL_to_TL_3',\n",
       "       'REO_to_TA_3', 'ALLL_to_TL_3', 'core_deposits_to_TA_3',\n",
       "       'brokered_deposits_to_TA_3', 'liquid_assets_to_TA_3',\n",
       "       'loss_provision_to_TL_3', 'ROA_3', 'NIM_3', 'assets_growth_3',\n",
       "       'term_spread_3', 'stock_mkt_growth_3', 'real_gdp_growth_3',\n",
       "       'unemployment_rate_change_3', 'treasury_yield_3m_3', 'bbb_spread_3',\n",
       "       'bbb_spread_change_3', 'max_total_assets_3', 'total_assets_4',\n",
       "       'log_TA_4', 'NI_to_TA_4', 'Equity_to_TA_4', 'NPL_to_TL_4',\n",
       "       'REO_to_TA_4', 'ALLL_to_TL_4', 'core_deposits_to_TA_4',\n",
       "       'brokered_deposits_to_TA_4', 'liquid_assets_to_TA_4',\n",
       "       'loss_provision_to_TL_4', 'ROA_4', 'NIM_4', 'assets_growth_4',\n",
       "       'term_spread_4', 'stock_mkt_growth_4', 'real_gdp_growth_4',\n",
       "       'unemployment_rate_change_4', 'treasury_yield_3m_4', 'bbb_spread_4',\n",
       "       'bbb_spread_change_4', 'max_total_assets_4', 'Failure'],\n",
       "      dtype='object')"
      ]
     },
     "execution_count": 19,
     "metadata": {},
     "output_type": "execute_result"
    }
   ],
   "source": [
    "train_data.columns"
   ]
  },
  {
   "cell_type": "code",
   "execution_count": 20,
   "metadata": {},
   "outputs": [],
   "source": [
    "train_data.to_csv('FDIC_train')\n",
    "validation_data.to_csv('FDIC_val')\n",
    "test_data.to_csv('FDIC_test')"
   ]
  }
 ],
 "metadata": {
  "kernelspec": {
   "display_name": "Python 3",
   "language": "python",
   "name": "python3"
  },
  "language_info": {
   "codemirror_mode": {
    "name": "ipython",
    "version": 3
   },
   "file_extension": ".py",
   "mimetype": "text/x-python",
   "name": "python",
   "nbconvert_exporter": "python",
   "pygments_lexer": "ipython3",
   "version": "3.7.3"
  }
 },
 "nbformat": 4,
 "nbformat_minor": 2
}
